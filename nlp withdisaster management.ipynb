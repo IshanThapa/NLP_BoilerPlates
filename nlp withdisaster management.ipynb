{
 "cells": [
  {
   "cell_type": "code",
   "execution_count": 2,
   "id": "ea28a0a7",
   "metadata": {
    "_cell_guid": "b1076dfc-b9ad-4769-8c92-a6c4dae69d19",
    "_uuid": "8f2839f25d086af736a60e9eeb907d3b93b6e0e5",
    "execution": {
     "iopub.execute_input": "2024-06-06T10:34:16.633198Z",
     "iopub.status.busy": "2024-06-06T10:34:16.632477Z",
     "iopub.status.idle": "2024-06-06T10:34:22.166139Z",
     "shell.execute_reply": "2024-06-06T10:34:22.164902Z"
    },
    "papermill": {
     "duration": 5.54181,
     "end_time": "2024-06-06T10:34:22.168186",
     "exception": false,
     "start_time": "2024-06-06T10:34:16.626376",
     "status": "completed"
    },
    "tags": []
   },
   "outputs": [
    {
     "name": "stdout",
     "output_type": "stream",
     "text": [
      "Done\n"
     ]
    }
   ],
   "source": [
    "#Library imports\n",
    "\n",
    "\n",
    "from nltk.corpus import stopwords\n",
    "\n",
    "import torch\n",
    "\n",
    "from sklearn.preprocessing import LabelEncoder\n",
    "\n",
    "\n",
    "import numpy as np # linear algebra\n",
    "import pandas as pd # data processing, CSV file I/O (e.g. pd.read_csv)\n",
    "\n",
    "print(\"Done\")"
   ]
  },
  {
   "cell_type": "code",
   "execution_count": 3,
   "id": "37458926",
   "metadata": {
    "execution": {
     "iopub.execute_input": "2024-06-06T10:34:22.178960Z",
     "iopub.status.busy": "2024-06-06T10:34:22.178035Z",
     "iopub.status.idle": "2024-06-06T10:34:22.185294Z",
     "shell.execute_reply": "2024-06-06T10:34:22.184277Z"
    },
    "papermill": {
     "duration": 0.014397,
     "end_time": "2024-06-06T10:34:22.187196",
     "exception": false,
     "start_time": "2024-06-06T10:34:22.172799",
     "status": "completed"
    },
    "tags": []
   },
   "outputs": [],
   "source": [
    "import os\n",
    "for dirname, _, filenames in os.walk('/kaggle/input'):\n",
    "    for filename in filenames:\n",
    "        print(os.path.join(dirname, filename))\n",
    "        \n"
   ]
  },
  {
   "cell_type": "code",
   "execution_count": 4,
   "id": "672dcd36",
   "metadata": {
    "execution": {
     "iopub.execute_input": "2024-06-06T10:34:22.196814Z",
     "iopub.status.busy": "2024-06-06T10:34:22.196513Z",
     "iopub.status.idle": "2024-06-06T10:34:22.272363Z",
     "shell.execute_reply": "2024-06-06T10:34:22.271287Z"
    },
    "papermill": {
     "duration": 0.08285,
     "end_time": "2024-06-06T10:34:22.274333",
     "exception": false,
     "start_time": "2024-06-06T10:34:22.191483",
     "status": "completed"
    },
    "tags": []
   },
   "outputs": [
    {
     "name": "stdout",
     "output_type": "stream",
     "text": [
      "GPU 0: NVIDIA GeForce GTX 1050 Ti\n"
     ]
    }
   ],
   "source": [
    "# Check if CUDA is available\n",
    "if torch.cuda.is_available():\n",
    "    # List visible devices\n",
    "    for i in range(torch.cuda.device_count()):\n",
    "        print(f\"GPU {i}: {torch.cuda.get_device_name(i)}\")\n",
    "else:\n",
    "    print(\"No GPU available. Using CPU.\")"
   ]
  },
  {
   "cell_type": "code",
   "execution_count": 5,
   "id": "c4fcc6d5",
   "metadata": {
    "execution": {
     "iopub.execute_input": "2024-06-06T10:34:22.284545Z",
     "iopub.status.busy": "2024-06-06T10:34:22.284248Z",
     "iopub.status.idle": "2024-06-06T10:34:22.397354Z",
     "shell.execute_reply": "2024-06-06T10:34:22.396502Z"
    },
    "papermill": {
     "duration": 0.120404,
     "end_time": "2024-06-06T10:34:22.399509",
     "exception": false,
     "start_time": "2024-06-06T10:34:22.279105",
     "status": "completed"
    },
    "tags": []
   },
   "outputs": [
    {
     "data": {
      "text/html": [
       "<div>\n",
       "<style scoped>\n",
       "    .dataframe tbody tr th:only-of-type {\n",
       "        vertical-align: middle;\n",
       "    }\n",
       "\n",
       "    .dataframe tbody tr th {\n",
       "        vertical-align: top;\n",
       "    }\n",
       "\n",
       "    .dataframe thead th {\n",
       "        text-align: right;\n",
       "    }\n",
       "</style>\n",
       "<table border=\"1\" class=\"dataframe\">\n",
       "  <thead>\n",
       "    <tr style=\"text-align: right;\">\n",
       "      <th></th>\n",
       "      <th>id</th>\n",
       "      <th>keyword</th>\n",
       "      <th>location</th>\n",
       "      <th>text</th>\n",
       "      <th>target</th>\n",
       "    </tr>\n",
       "  </thead>\n",
       "  <tbody>\n",
       "    <tr>\n",
       "      <th>0</th>\n",
       "      <td>1</td>\n",
       "      <td>NaN</td>\n",
       "      <td>NaN</td>\n",
       "      <td>Our Deeds are the Reason of this #earthquake M...</td>\n",
       "      <td>1</td>\n",
       "    </tr>\n",
       "    <tr>\n",
       "      <th>1</th>\n",
       "      <td>4</td>\n",
       "      <td>NaN</td>\n",
       "      <td>NaN</td>\n",
       "      <td>Forest fire near La Ronge Sask. Canada</td>\n",
       "      <td>1</td>\n",
       "    </tr>\n",
       "    <tr>\n",
       "      <th>2</th>\n",
       "      <td>5</td>\n",
       "      <td>NaN</td>\n",
       "      <td>NaN</td>\n",
       "      <td>All residents asked to 'shelter in place' are ...</td>\n",
       "      <td>1</td>\n",
       "    </tr>\n",
       "    <tr>\n",
       "      <th>3</th>\n",
       "      <td>6</td>\n",
       "      <td>NaN</td>\n",
       "      <td>NaN</td>\n",
       "      <td>13,000 people receive #wildfires evacuation or...</td>\n",
       "      <td>1</td>\n",
       "    </tr>\n",
       "    <tr>\n",
       "      <th>4</th>\n",
       "      <td>7</td>\n",
       "      <td>NaN</td>\n",
       "      <td>NaN</td>\n",
       "      <td>Just got sent this photo from Ruby #Alaska as ...</td>\n",
       "      <td>1</td>\n",
       "    </tr>\n",
       "  </tbody>\n",
       "</table>\n",
       "</div>"
      ],
      "text/plain": [
       "   id keyword location                                               text  \\\n",
       "0   1     NaN      NaN  Our Deeds are the Reason of this #earthquake M...   \n",
       "1   4     NaN      NaN             Forest fire near La Ronge Sask. Canada   \n",
       "2   5     NaN      NaN  All residents asked to 'shelter in place' are ...   \n",
       "3   6     NaN      NaN  13,000 people receive #wildfires evacuation or...   \n",
       "4   7     NaN      NaN  Just got sent this photo from Ruby #Alaska as ...   \n",
       "\n",
       "   target  \n",
       "0       1  \n",
       "1       1  \n",
       "2       1  \n",
       "3       1  \n",
       "4       1  "
      ]
     },
     "execution_count": 5,
     "metadata": {},
     "output_type": "execute_result"
    }
   ],
   "source": [
    "train_data = pd.read_csv(r'C:\\nlp\\NLP_BoilerPlates\\data\\train.csv')\n",
    "test_data = pd.read_csv(r'C:\\nlp\\NLP_BoilerPlates\\data\\test.csv')\n",
    "train_data.head()"
   ]
  },
  {
   "cell_type": "code",
   "execution_count": 6,
   "id": "5c500226",
   "metadata": {
    "execution": {
     "iopub.execute_input": "2024-06-06T10:34:22.409866Z",
     "iopub.status.busy": "2024-06-06T10:34:22.409540Z",
     "iopub.status.idle": "2024-06-06T10:34:22.415354Z",
     "shell.execute_reply": "2024-06-06T10:34:22.414489Z"
    },
    "papermill": {
     "duration": 0.01387,
     "end_time": "2024-06-06T10:34:22.418059",
     "exception": false,
     "start_time": "2024-06-06T10:34:22.404189",
     "status": "completed"
    },
    "tags": []
   },
   "outputs": [
    {
     "name": "stdout",
     "output_type": "stream",
     "text": [
      "[nan 'ablaze' 'accident' 'aftershock' 'airplane%20accident' 'ambulance'\n",
      " 'annihilated' 'annihilation' 'apocalypse' 'armageddon' 'army' 'arson'\n",
      " 'arsonist' 'attack' 'attacked' 'avalanche' 'battle' 'bioterror'\n",
      " 'bioterrorism' 'blaze' 'blazing' 'bleeding' 'blew%20up' 'blight'\n",
      " 'blizzard' 'blood' 'bloody' 'blown%20up' 'body%20bag' 'body%20bagging'\n",
      " 'body%20bags' 'bomb' 'bombed' 'bombing' 'bridge%20collapse'\n",
      " 'buildings%20burning' 'buildings%20on%20fire' 'burned' 'burning'\n",
      " 'burning%20buildings' 'bush%20fires' 'casualties' 'casualty'\n",
      " 'catastrophe' 'catastrophic' 'chemical%20emergency' 'cliff%20fall'\n",
      " 'collapse' 'collapsed' 'collide' 'collided' 'collision' 'crash' 'crashed'\n",
      " 'crush' 'crushed' 'curfew' 'cyclone' 'damage' 'danger' 'dead' 'death'\n",
      " 'deaths' 'debris' 'deluge' 'deluged' 'demolish' 'demolished' 'demolition'\n",
      " 'derail' 'derailed' 'derailment' 'desolate' 'desolation' 'destroy'\n",
      " 'destroyed' 'destruction' 'detonate' 'detonation' 'devastated'\n",
      " 'devastation' 'disaster' 'displaced' 'drought' 'drown' 'drowned'\n",
      " 'drowning' 'dust%20storm' 'earthquake' 'electrocute' 'electrocuted'\n",
      " 'emergency' 'emergency%20plan' 'emergency%20services' 'engulfed'\n",
      " 'epicentre' 'evacuate' 'evacuated' 'evacuation' 'explode' 'exploded'\n",
      " 'explosion' 'eyewitness' 'famine' 'fatal' 'fatalities' 'fatality' 'fear'\n",
      " 'fire' 'fire%20truck' 'first%20responders' 'flames' 'flattened' 'flood'\n",
      " 'flooding' 'floods' 'forest%20fire' 'forest%20fires' 'hail' 'hailstorm'\n",
      " 'harm' 'hazard' 'hazardous' 'heat%20wave' 'hellfire' 'hijack' 'hijacker'\n",
      " 'hijacking' 'hostage' 'hostages' 'hurricane' 'injured' 'injuries'\n",
      " 'injury' 'inundated' 'inundation' 'landslide' 'lava' 'lightning'\n",
      " 'loud%20bang' 'mass%20murder' 'mass%20murderer' 'massacre' 'mayhem'\n",
      " 'meltdown' 'military' 'mudslide' 'natural%20disaster'\n",
      " 'nuclear%20disaster' 'nuclear%20reactor' 'obliterate' 'obliterated'\n",
      " 'obliteration' 'oil%20spill' 'outbreak' 'pandemonium' 'panic' 'panicking'\n",
      " 'police' 'quarantine' 'quarantined' 'radiation%20emergency' 'rainstorm'\n",
      " 'razed' 'refugees' 'rescue' 'rescued' 'rescuers' 'riot' 'rioting'\n",
      " 'rubble' 'ruin' 'sandstorm' 'screamed' 'screaming' 'screams' 'seismic'\n",
      " 'sinkhole' 'sinking' 'siren' 'sirens' 'smoke' 'snowstorm' 'storm'\n",
      " 'stretcher' 'structural%20failure' 'suicide%20bomb' 'suicide%20bomber'\n",
      " 'suicide%20bombing' 'sunk' 'survive' 'survived' 'survivors' 'terrorism'\n",
      " 'terrorist' 'threat' 'thunder' 'thunderstorm' 'tornado' 'tragedy'\n",
      " 'trapped' 'trauma' 'traumatised' 'trouble' 'tsunami' 'twister' 'typhoon'\n",
      " 'upheaval' 'violent%20storm' 'volcano' 'war%20zone' 'weapon' 'weapons'\n",
      " 'whirlwind' 'wild%20fires' 'wildfire' 'windstorm' 'wounded' 'wounds'\n",
      " 'wreck' 'wreckage' 'wrecked']\n"
     ]
    }
   ],
   "source": [
    "unique_locations = train_data['keyword'].unique()\n",
    "print(unique_locations)\n"
   ]
  },
  {
   "cell_type": "code",
   "execution_count": 7,
   "id": "aa7231d3",
   "metadata": {
    "execution": {
     "iopub.execute_input": "2024-06-06T10:34:22.429293Z",
     "iopub.status.busy": "2024-06-06T10:34:22.428440Z",
     "iopub.status.idle": "2024-06-06T10:34:22.438436Z",
     "shell.execute_reply": "2024-06-06T10:34:22.437724Z"
    },
    "papermill": {
     "duration": 0.017582,
     "end_time": "2024-06-06T10:34:22.440266",
     "exception": false,
     "start_time": "2024-06-06T10:34:22.422684",
     "status": "completed"
    },
    "tags": []
   },
   "outputs": [],
   "source": [
    "train_data.fillna('', inplace = True)\n",
    "test_data.fillna('', inplace = True)"
   ]
  },
  {
   "cell_type": "code",
   "execution_count": 8,
   "id": "11c5a447",
   "metadata": {
    "execution": {
     "iopub.execute_input": "2024-06-06T10:34:22.450603Z",
     "iopub.status.busy": "2024-06-06T10:34:22.450319Z",
     "iopub.status.idle": "2024-06-06T10:34:22.464213Z",
     "shell.execute_reply": "2024-06-06T10:34:22.463438Z"
    },
    "papermill": {
     "duration": 0.021232,
     "end_time": "2024-06-06T10:34:22.466108",
     "exception": false,
     "start_time": "2024-06-06T10:34:22.444876",
     "status": "completed"
    },
    "tags": []
   },
   "outputs": [
    {
     "data": {
      "text/html": [
       "<div>\n",
       "<style scoped>\n",
       "    .dataframe tbody tr th:only-of-type {\n",
       "        vertical-align: middle;\n",
       "    }\n",
       "\n",
       "    .dataframe tbody tr th {\n",
       "        vertical-align: top;\n",
       "    }\n",
       "\n",
       "    .dataframe thead th {\n",
       "        text-align: right;\n",
       "    }\n",
       "</style>\n",
       "<table border=\"1\" class=\"dataframe\">\n",
       "  <thead>\n",
       "    <tr style=\"text-align: right;\">\n",
       "      <th></th>\n",
       "      <th>id</th>\n",
       "      <th>keyword</th>\n",
       "      <th>location</th>\n",
       "      <th>text</th>\n",
       "      <th>target</th>\n",
       "    </tr>\n",
       "  </thead>\n",
       "  <tbody>\n",
       "    <tr>\n",
       "      <th>0</th>\n",
       "      <td>1</td>\n",
       "      <td></td>\n",
       "      <td></td>\n",
       "      <td>Our Deeds are the Reason of this #earthquake M...</td>\n",
       "      <td>1</td>\n",
       "    </tr>\n",
       "    <tr>\n",
       "      <th>1</th>\n",
       "      <td>4</td>\n",
       "      <td></td>\n",
       "      <td></td>\n",
       "      <td>Forest fire near La Ronge Sask. Canada</td>\n",
       "      <td>1</td>\n",
       "    </tr>\n",
       "    <tr>\n",
       "      <th>2</th>\n",
       "      <td>5</td>\n",
       "      <td></td>\n",
       "      <td></td>\n",
       "      <td>All residents asked to 'shelter in place' are ...</td>\n",
       "      <td>1</td>\n",
       "    </tr>\n",
       "    <tr>\n",
       "      <th>3</th>\n",
       "      <td>6</td>\n",
       "      <td></td>\n",
       "      <td></td>\n",
       "      <td>13,000 people receive #wildfires evacuation or...</td>\n",
       "      <td>1</td>\n",
       "    </tr>\n",
       "    <tr>\n",
       "      <th>4</th>\n",
       "      <td>7</td>\n",
       "      <td></td>\n",
       "      <td></td>\n",
       "      <td>Just got sent this photo from Ruby #Alaska as ...</td>\n",
       "      <td>1</td>\n",
       "    </tr>\n",
       "    <tr>\n",
       "      <th>...</th>\n",
       "      <td>...</td>\n",
       "      <td>...</td>\n",
       "      <td>...</td>\n",
       "      <td>...</td>\n",
       "      <td>...</td>\n",
       "    </tr>\n",
       "    <tr>\n",
       "      <th>7608</th>\n",
       "      <td>10869</td>\n",
       "      <td></td>\n",
       "      <td></td>\n",
       "      <td>Two giant cranes holding a bridge collapse int...</td>\n",
       "      <td>1</td>\n",
       "    </tr>\n",
       "    <tr>\n",
       "      <th>7609</th>\n",
       "      <td>10870</td>\n",
       "      <td></td>\n",
       "      <td></td>\n",
       "      <td>@aria_ahrary @TheTawniest The out of control w...</td>\n",
       "      <td>1</td>\n",
       "    </tr>\n",
       "    <tr>\n",
       "      <th>7610</th>\n",
       "      <td>10871</td>\n",
       "      <td></td>\n",
       "      <td></td>\n",
       "      <td>M1.94 [01:04 UTC]?5km S of Volcano Hawaii. htt...</td>\n",
       "      <td>1</td>\n",
       "    </tr>\n",
       "    <tr>\n",
       "      <th>7611</th>\n",
       "      <td>10872</td>\n",
       "      <td></td>\n",
       "      <td></td>\n",
       "      <td>Police investigating after an e-bike collided ...</td>\n",
       "      <td>1</td>\n",
       "    </tr>\n",
       "    <tr>\n",
       "      <th>7612</th>\n",
       "      <td>10873</td>\n",
       "      <td></td>\n",
       "      <td></td>\n",
       "      <td>The Latest: More Homes Razed by Northern Calif...</td>\n",
       "      <td>1</td>\n",
       "    </tr>\n",
       "  </tbody>\n",
       "</table>\n",
       "<p>7613 rows × 5 columns</p>\n",
       "</div>"
      ],
      "text/plain": [
       "         id keyword location  \\\n",
       "0         1                    \n",
       "1         4                    \n",
       "2         5                    \n",
       "3         6                    \n",
       "4         7                    \n",
       "...     ...     ...      ...   \n",
       "7608  10869                    \n",
       "7609  10870                    \n",
       "7610  10871                    \n",
       "7611  10872                    \n",
       "7612  10873                    \n",
       "\n",
       "                                                   text  target  \n",
       "0     Our Deeds are the Reason of this #earthquake M...       1  \n",
       "1                Forest fire near La Ronge Sask. Canada       1  \n",
       "2     All residents asked to 'shelter in place' are ...       1  \n",
       "3     13,000 people receive #wildfires evacuation or...       1  \n",
       "4     Just got sent this photo from Ruby #Alaska as ...       1  \n",
       "...                                                 ...     ...  \n",
       "7608  Two giant cranes holding a bridge collapse int...       1  \n",
       "7609  @aria_ahrary @TheTawniest The out of control w...       1  \n",
       "7610  M1.94 [01:04 UTC]?5km S of Volcano Hawaii. htt...       1  \n",
       "7611  Police investigating after an e-bike collided ...       1  \n",
       "7612  The Latest: More Homes Razed by Northern Calif...       1  \n",
       "\n",
       "[7613 rows x 5 columns]"
      ]
     },
     "execution_count": 8,
     "metadata": {},
     "output_type": "execute_result"
    }
   ],
   "source": [
    "train_data"
   ]
  },
  {
   "cell_type": "code",
   "execution_count": 9,
   "id": "fc1be36c",
   "metadata": {
    "execution": {
     "iopub.execute_input": "2024-06-06T10:34:22.477043Z",
     "iopub.status.busy": "2024-06-06T10:34:22.476783Z",
     "iopub.status.idle": "2024-06-06T10:34:22.499156Z",
     "shell.execute_reply": "2024-06-06T10:34:22.498298Z"
    },
    "papermill": {
     "duration": 0.029826,
     "end_time": "2024-06-06T10:34:22.500953",
     "exception": false,
     "start_time": "2024-06-06T10:34:22.471127",
     "status": "completed"
    },
    "tags": []
   },
   "outputs": [],
   "source": [
    "keywordEncoder = LabelEncoder()\n",
    "train_data['keyword'] = keywordEncoder.fit_transform(train_data['keyword'])\n",
    "test_data['keyword'] = keywordEncoder.transform(test_data['keyword'])\n",
    "\n",
    "locationEncoder = LabelEncoder()\n",
    "train_data['location'] = locationEncoder.fit_transform(train_data['location'])\n",
    "test_data['location'] = locationEncoder.fit_transform(test_data['location'])"
   ]
  },
  {
   "cell_type": "code",
   "execution_count": 10,
   "id": "2fcd0ee8",
   "metadata": {
    "execution": {
     "iopub.execute_input": "2024-06-06T10:34:22.512190Z",
     "iopub.status.busy": "2024-06-06T10:34:22.511914Z",
     "iopub.status.idle": "2024-06-06T10:34:22.516528Z",
     "shell.execute_reply": "2024-06-06T10:34:22.515671Z"
    },
    "papermill": {
     "duration": 0.012607,
     "end_time": "2024-06-06T10:34:22.518596",
     "exception": false,
     "start_time": "2024-06-06T10:34:22.505989",
     "status": "completed"
    },
    "tags": []
   },
   "outputs": [],
   "source": [
    "def preprocessString(s):\n",
    "    # Remove all non-word characters (everything except numbers and letters)\n",
    "    s = re.sub(r\"[^\\w\\s]\", '', s)\n",
    "    # Replace all runs of whitespaces with no space\n",
    "    s = re.sub(r\"\\s+\", '', s)\n",
    "    # replace digits with no space\n",
    "    s = re.sub(r\"\\d\", '', s)\n",
    "    return s"
   ]
  },
  {
   "cell_type": "code",
   "execution_count": 11,
   "id": "85e0817b",
   "metadata": {
    "execution": {
     "iopub.execute_input": "2024-06-06T10:34:22.529786Z",
     "iopub.status.busy": "2024-06-06T10:34:22.529499Z",
     "iopub.status.idle": "2024-06-06T10:34:22.543307Z",
     "shell.execute_reply": "2024-06-06T10:34:22.542458Z"
    },
    "papermill": {
     "duration": 0.021796,
     "end_time": "2024-06-06T10:34:22.545399",
     "exception": false,
     "start_time": "2024-06-06T10:34:22.523603",
     "status": "completed"
    },
    "tags": []
   },
   "outputs": [
    {
     "data": {
      "text/html": [
       "<div>\n",
       "<style scoped>\n",
       "    .dataframe tbody tr th:only-of-type {\n",
       "        vertical-align: middle;\n",
       "    }\n",
       "\n",
       "    .dataframe tbody tr th {\n",
       "        vertical-align: top;\n",
       "    }\n",
       "\n",
       "    .dataframe thead th {\n",
       "        text-align: right;\n",
       "    }\n",
       "</style>\n",
       "<table border=\"1\" class=\"dataframe\">\n",
       "  <thead>\n",
       "    <tr style=\"text-align: right;\">\n",
       "      <th></th>\n",
       "      <th>id</th>\n",
       "      <th>keyword</th>\n",
       "      <th>location</th>\n",
       "      <th>text</th>\n",
       "      <th>target</th>\n",
       "    </tr>\n",
       "  </thead>\n",
       "  <tbody>\n",
       "    <tr>\n",
       "      <th>0</th>\n",
       "      <td>1</td>\n",
       "      <td>0</td>\n",
       "      <td>0</td>\n",
       "      <td>Our Deeds are the Reason of this #earthquake M...</td>\n",
       "      <td>1</td>\n",
       "    </tr>\n",
       "    <tr>\n",
       "      <th>1</th>\n",
       "      <td>4</td>\n",
       "      <td>0</td>\n",
       "      <td>0</td>\n",
       "      <td>Forest fire near La Ronge Sask. Canada</td>\n",
       "      <td>1</td>\n",
       "    </tr>\n",
       "    <tr>\n",
       "      <th>2</th>\n",
       "      <td>5</td>\n",
       "      <td>0</td>\n",
       "      <td>0</td>\n",
       "      <td>All residents asked to 'shelter in place' are ...</td>\n",
       "      <td>1</td>\n",
       "    </tr>\n",
       "    <tr>\n",
       "      <th>3</th>\n",
       "      <td>6</td>\n",
       "      <td>0</td>\n",
       "      <td>0</td>\n",
       "      <td>13,000 people receive #wildfires evacuation or...</td>\n",
       "      <td>1</td>\n",
       "    </tr>\n",
       "    <tr>\n",
       "      <th>4</th>\n",
       "      <td>7</td>\n",
       "      <td>0</td>\n",
       "      <td>0</td>\n",
       "      <td>Just got sent this photo from Ruby #Alaska as ...</td>\n",
       "      <td>1</td>\n",
       "    </tr>\n",
       "    <tr>\n",
       "      <th>...</th>\n",
       "      <td>...</td>\n",
       "      <td>...</td>\n",
       "      <td>...</td>\n",
       "      <td>...</td>\n",
       "      <td>...</td>\n",
       "    </tr>\n",
       "    <tr>\n",
       "      <th>7608</th>\n",
       "      <td>10869</td>\n",
       "      <td>0</td>\n",
       "      <td>0</td>\n",
       "      <td>Two giant cranes holding a bridge collapse int...</td>\n",
       "      <td>1</td>\n",
       "    </tr>\n",
       "    <tr>\n",
       "      <th>7609</th>\n",
       "      <td>10870</td>\n",
       "      <td>0</td>\n",
       "      <td>0</td>\n",
       "      <td>@aria_ahrary @TheTawniest The out of control w...</td>\n",
       "      <td>1</td>\n",
       "    </tr>\n",
       "    <tr>\n",
       "      <th>7610</th>\n",
       "      <td>10871</td>\n",
       "      <td>0</td>\n",
       "      <td>0</td>\n",
       "      <td>M1.94 [01:04 UTC]?5km S of Volcano Hawaii. htt...</td>\n",
       "      <td>1</td>\n",
       "    </tr>\n",
       "    <tr>\n",
       "      <th>7611</th>\n",
       "      <td>10872</td>\n",
       "      <td>0</td>\n",
       "      <td>0</td>\n",
       "      <td>Police investigating after an e-bike collided ...</td>\n",
       "      <td>1</td>\n",
       "    </tr>\n",
       "    <tr>\n",
       "      <th>7612</th>\n",
       "      <td>10873</td>\n",
       "      <td>0</td>\n",
       "      <td>0</td>\n",
       "      <td>The Latest: More Homes Razed by Northern Calif...</td>\n",
       "      <td>1</td>\n",
       "    </tr>\n",
       "  </tbody>\n",
       "</table>\n",
       "<p>7613 rows × 5 columns</p>\n",
       "</div>"
      ],
      "text/plain": [
       "         id  keyword  location  \\\n",
       "0         1        0         0   \n",
       "1         4        0         0   \n",
       "2         5        0         0   \n",
       "3         6        0         0   \n",
       "4         7        0         0   \n",
       "...     ...      ...       ...   \n",
       "7608  10869        0         0   \n",
       "7609  10870        0         0   \n",
       "7610  10871        0         0   \n",
       "7611  10872        0         0   \n",
       "7612  10873        0         0   \n",
       "\n",
       "                                                   text  target  \n",
       "0     Our Deeds are the Reason of this #earthquake M...       1  \n",
       "1                Forest fire near La Ronge Sask. Canada       1  \n",
       "2     All residents asked to 'shelter in place' are ...       1  \n",
       "3     13,000 people receive #wildfires evacuation or...       1  \n",
       "4     Just got sent this photo from Ruby #Alaska as ...       1  \n",
       "...                                                 ...     ...  \n",
       "7608  Two giant cranes holding a bridge collapse int...       1  \n",
       "7609  @aria_ahrary @TheTawniest The out of control w...       1  \n",
       "7610  M1.94 [01:04 UTC]?5km S of Volcano Hawaii. htt...       1  \n",
       "7611  Police investigating after an e-bike collided ...       1  \n",
       "7612  The Latest: More Homes Razed by Northern Calif...       1  \n",
       "\n",
       "[7613 rows x 5 columns]"
      ]
     },
     "execution_count": 11,
     "metadata": {},
     "output_type": "execute_result"
    }
   ],
   "source": [
    "train_data"
   ]
  },
  {
   "cell_type": "code",
   "execution_count": 12,
   "id": "ee647ef6",
   "metadata": {},
   "outputs": [
    {
     "name": "stderr",
     "output_type": "stream",
     "text": [
      "[nltk_data] Downloading package stopwords to\n",
      "[nltk_data]     C:\\Users\\thapa\\AppData\\Roaming\\nltk_data...\n",
      "[nltk_data]   Package stopwords is already up-to-date!\n"
     ]
    },
    {
     "data": {
      "text/plain": [
       "True"
      ]
     },
     "execution_count": 12,
     "metadata": {},
     "output_type": "execute_result"
    }
   ],
   "source": [
    "import nltk\n",
    "\n",
    "# Download the 'stopwords' corpus\n",
    "nltk.download('stopwords')\n"
   ]
  },
  {
   "cell_type": "code",
   "execution_count": 13,
   "id": "d5d0366f",
   "metadata": {
    "execution": {
     "iopub.execute_input": "2024-06-06T10:34:22.558629Z",
     "iopub.status.busy": "2024-06-06T10:34:22.557879Z",
     "iopub.status.idle": "2024-06-06T10:34:22.564334Z",
     "shell.execute_reply": "2024-06-06T10:34:22.563624Z"
    },
    "papermill": {
     "duration": 0.014818,
     "end_time": "2024-06-06T10:34:22.566292",
     "exception": false,
     "start_time": "2024-06-06T10:34:22.551474",
     "status": "completed"
    },
    "tags": []
   },
   "outputs": [],
   "source": [
    "def getVocabulory(sentenceList):\n",
    "    wordList = []\n",
    "\n",
    "    stopWords = set(stopwords.words('english'))\n",
    "    \n",
    "    for sentence in sentenceList:\n",
    "        for word in sentence.lower().split():\n",
    "            processedWord = preprocessString(word)\n",
    "            if processedWord not in stopWords and processedWord != '':\n",
    "                wordList.append(processedWord)\n",
    "\n",
    "    corpus = Counter(wordList)\n",
    "    corpus_ = sorted(corpus,key=corpus.get,reverse=True)[:1000]\n",
    "    onehot_dict = {w:i+1 for i,w in enumerate(corpus_)}\n",
    "    \n",
    "    return onehot_dict"
   ]
  },
  {
   "cell_type": "code",
   "execution_count": 14,
   "id": "49d56ac0",
   "metadata": {},
   "outputs": [],
   "source": [
    "def preprocessData(data: pd.DataFrame, vocab = None):\n",
    "    if vocab is not None:\n",
    "        X_test, y_test = data.loc[:, 'text'].values, np.empty((data.shape[0], 1))\n",
    "        \n",
    "        new_X_test = []\n",
    "        for sentence in X_test:\n",
    "            new_X_test.append([vocab[preprocessString(word)] for word in sentence.lower().split() if preprocessString(word) in vocab.keys()])\n",
    "        \n",
    "        return new_X_test, y_test\n",
    "    \n",
    "    X, y = data.loc[:, 'text'].values, data.loc[:, 'target'].values\n",
    "        \n",
    "    X_train, X_dev, y_train, y_dev = train_test_split(X, y, test_size = .2, stratify = y)\n",
    "    print(f'X_train {X_train.shape} | X_dev {X_dev.shape} | y_train {y_train.shape} | y_dev {y_dev.shape}')\n",
    "    \n",
    "    vocab = getVocabulory(X_train)\n",
    "    \n",
    "    new_X_train, new_X_dev = [], []\n",
    "    \n",
    "    for sentence in X_train:\n",
    "        new_X_train.append([vocab[preprocessString(word)] for word in sentence.lower().split() if preprocessString(word) in vocab.keys()])\n",
    "        \n",
    "    for sentence in X_dev:\n",
    "        new_X_dev.append([vocab[preprocessString(word)] for word in sentence.lower().split() if preprocessString(word) in vocab.keys()])\n",
    "    \n",
    "    return new_X_train, new_X_dev, y_train, y_dev, vocab"
   ]
  },
  {
   "cell_type": "code",
   "execution_count": 15,
   "id": "1e545ecc",
   "metadata": {},
   "outputs": [],
   "source": [
    "from sklearn.model_selection import train_test_split"
   ]
  },
  {
   "cell_type": "code",
   "execution_count": 16,
   "id": "9ccc1c73",
   "metadata": {},
   "outputs": [],
   "source": [
    "import re\n",
    "from collections import Counter"
   ]
  },
  {
   "cell_type": "code",
   "execution_count": 17,
   "id": "1f2dfb1b",
   "metadata": {},
   "outputs": [
    {
     "name": "stdout",
     "output_type": "stream",
     "text": [
      "X_train (6090,) | X_dev (1523,) | y_train (6090,) | y_dev (1523,)\n"
     ]
    }
   ],
   "source": [
    "X_train, X_dev, y_train, y_dev, vocab = preprocessData(train_data)"
   ]
  },
  {
   "cell_type": "code",
   "execution_count": 18,
   "id": "49fa9335",
   "metadata": {},
   "outputs": [
    {
     "data": {
      "text/plain": [
       "<Axes: >"
      ]
     },
     "execution_count": 18,
     "metadata": {},
     "output_type": "execute_result"
    },
    {
     "data": {
      "image/png": "[encoded data removed]",
      "text/plain": [
       "<Figure size 640x480 with 1 Axes>"
      ]
     },
     "metadata": {},
     "output_type": "display_data"
    }
   ],
   "source": [
    "rev_len = [len(i) for i in X_train]\n",
    "pd.Series(rev_len).hist()"
   ]
  },
  {
   "cell_type": "code",
   "execution_count": 19,
   "id": "b0bd4a71",
   "metadata": {},
   "outputs": [],
   "source": [
    "def padding(sentences, seq_len):\n",
    "    features = np.zeros((len(sentences), seq_len),dtype=int)\n",
    "    for ii, review in enumerate(sentences):\n",
    "        if len(review) != 0:\n",
    "            features[ii, -len(review):] = np.array(review)[:seq_len]\n",
    "    return features"
   ]
  },
  {
   "cell_type": "code",
   "execution_count": 20,
   "id": "92deb81e",
   "metadata": {},
   "outputs": [],
   "source": [
    "X_train = padding(X_train, 15)\n",
    "X_dev = padding(X_dev, 15)"
   ]
  },
  {
   "cell_type": "code",
   "execution_count": 21,
   "id": "cb7be6c0",
   "metadata": {},
   "outputs": [],
   "source": [
    "X_train, y_train = torch.Tensor(X_train), torch.Tensor(y_train)\n",
    "X_dev, y_dev = torch.Tensor(X_dev), torch.Tensor(y_dev)"
   ]
  },
  {
   "cell_type": "code",
   "execution_count": 22,
   "id": "37dba770",
   "metadata": {},
   "outputs": [],
   "source": [
    "from torch.utils.data import TensorDataset, DataLoader"
   ]
  },
  {
   "cell_type": "code",
   "execution_count": 23,
   "id": "cbb6c1ff",
   "metadata": {},
   "outputs": [],
   "source": [
    "train_dataset = TensorDataset(X_train, y_train)\n",
    "dev_dataset = TensorDataset(X_dev, y_dev)\n",
    "\n",
    "batch_size = 13\n",
    "\n",
    "train_dataloader = DataLoader(train_dataset, batch_size = batch_size, shuffle = True, drop_last = True)\n",
    "dev_dataloader = DataLoader(dev_dataset, batch_size = batch_size, drop_last = True)"
   ]
  },
  {
   "cell_type": "code",
   "execution_count": 24,
   "id": "6b5a7794",
   "metadata": {},
   "outputs": [],
   "source": [
    "def makeTheNet():\n",
    "    class TweetDisasterRNN(nn.Module):\n",
    "        def __init__(self, no_layers, vocab_size, hidden_dim, embedding_dim, output_dim):\n",
    "            super().__init__()\n",
    "\n",
    "            self.no_layers = no_layers\n",
    "            self.hidden_dim = hidden_dim\n",
    "            self.output_dim = output_dim\n",
    "\n",
    "            # Embedding Layer\n",
    "            self.embedding = nn.Embedding(vocab_size, embedding_dim)\n",
    "\n",
    "            # LSTM Layers\n",
    "            self.lstm = nn.LSTM(\n",
    "                input_size=embedding_dim,\n",
    "                hidden_size=hidden_dim,\n",
    "                num_layers=no_layers,\n",
    "                batch_first=True,\n",
    "            )\n",
    "\n",
    "            # Dropout to reduce overfitting\n",
    "            self.dropout = nn.Dropout(0.5)\n",
    "\n",
    "            # Fully Connected Layers with BatchNorm and Dropout\n",
    "            self.fc1 = nn.Linear(hidden_dim, hidden_dim)  # Reduce size to decrease complexity\n",
    "            self.bn1 = nn.BatchNorm1d(hidden_dim)  # BatchNorm\n",
    "            self.fc2 = nn.Linear(hidden_dim, hidden_dim)  # Further reduction\n",
    "            self.bn2 = nn.BatchNorm1d(hidden_dim)\n",
    "            self.output = nn.Linear(hidden_dim, output_dim)  # Final output layer\n",
    "\n",
    "        def forward(self, x, hidden):\n",
    "            # Embedding and LSTM\n",
    "            x = self.embedding(x)\n",
    "            x, hidden = self.lstm(x, hidden)\n",
    "            x = x[:, -1, :]  # Use last output for classification\n",
    "            x = self.dropout(x)  # Apply dropout\n",
    "\n",
    "            # Fully Connected Layers with ReLU, BatchNorm, and Dropout\n",
    "            x = F.relu(self.fc1(x))\n",
    "            x = self.bn1(x)  # Apply batch normalization\n",
    "            x = F.dropout(x, 0.5)  # Apply dropout\n",
    "            \n",
    "            x = F.relu(self.fc2(x))\n",
    "            x = self.bn2(x)\n",
    "            x = F.dropout(x, 0.5)  # Additional dropout for regularization\n",
    "            \n",
    "            return self.output(x), hidden  # Output layer\n",
    "\n",
    "        def init_hidden(self, batch_size):\n",
    "            # Initialize hidden states\n",
    "            h0 = torch.zeros((self.no_layers, batch_size, self.hidden_dim)).to(device)\n",
    "            c0 = torch.zeros((self.no_layers, batch_size, self.hidden_dim)).to(device)\n",
    "            hidden = (h0, c0)\n",
    "            return hidden\n",
    "\n",
    "    # Create the model with modified layer dimensions\n",
    "    net = TweetDisasterRNN(\n",
    "        no_layers=3,\n",
    "        hidden_dim=256,\n",
    "        output_dim=1,\n",
    "        embedding_dim=128,\n",
    "        vocab_size=len(vocab) + 1,\n",
    "    )\n",
    "\n",
    "    # Loss function and optimizer with L2 regularization\n",
    "    lossfun = nn.BCEWithLogitsLoss()  # Binary classification\n",
    "    optimizer = torch.optim.Adam(net.parameters(), lr=0.0001, weight_decay=0.01)  # L2 regularization\n",
    "    \n",
    "    return net, lossfun, optimizer"
   ]
  },
  {
   "cell_type": "code",
   "execution_count": 25,
   "id": "47aee3c1",
   "metadata": {},
   "outputs": [],
   "source": [
    "from torch import nn"
   ]
  },
  {
   "cell_type": "code",
   "execution_count": 26,
   "id": "feb7dc1e",
   "metadata": {},
   "outputs": [
    {
     "data": {
      "text/plain": [
       "TweetDisasterRNN(\n",
       "  (embedding): Embedding(1001, 128)\n",
       "  (lstm): LSTM(128, 256, num_layers=3, batch_first=True)\n",
       "  (dropout): Dropout(p=0.5, inplace=False)\n",
       "  (fc1): Linear(in_features=256, out_features=256, bias=True)\n",
       "  (bn1): BatchNorm1d(256, eps=1e-05, momentum=0.1, affine=True, track_running_stats=True)\n",
       "  (fc2): Linear(in_features=256, out_features=256, bias=True)\n",
       "  (bn2): BatchNorm1d(256, eps=1e-05, momentum=0.1, affine=True, track_running_stats=True)\n",
       "  (output): Linear(in_features=256, out_features=1, bias=True)\n",
       ")"
      ]
     },
     "execution_count": 26,
     "metadata": {},
     "output_type": "execute_result"
    }
   ],
   "source": [
    "net, lossfun, optimizer = makeTheNet()\n",
    "net"
   ]
  },
  {
   "cell_type": "code",
   "execution_count": 27,
   "id": "e083cae1",
   "metadata": {},
   "outputs": [
    {
     "data": {
      "text/plain": [
       "(torch.Size([13, 15]), torch.Size([13]))"
      ]
     },
     "execution_count": 27,
     "metadata": {},
     "output_type": "execute_result"
    }
   ],
   "source": [
    "X, y = next(iter(train_dataloader))\n",
    "X.shape, y.shape"
   ]
  },
  {
   "cell_type": "code",
   "execution_count": 28,
   "id": "b2d5de9d",
   "metadata": {},
   "outputs": [
    {
     "data": {
      "text/plain": [
       "device(type='cuda', index=0)"
      ]
     },
     "execution_count": 28,
     "metadata": {},
     "output_type": "execute_result"
    }
   ],
   "source": [
    "device = torch.device('cuda:0' if torch.cuda.is_available() else 'cpu')\n",
    "device"
   ]
  },
  {
   "cell_type": "code",
   "execution_count": 32,
   "id": "f6fd8891",
   "metadata": {},
   "outputs": [],
   "source": [
    "from tqdm import tqdm\n",
    "import torch.nn.functional as F"
   ]
  },
  {
   "cell_type": "code",
   "execution_count": 33,
   "id": "ad59e9b7",
   "metadata": {},
   "outputs": [],
   "source": [
    "def trainTheNet():\n",
    "    clip = 5\n",
    "    epochs = 100\n",
    "    \n",
    "    net, lossfun, optimizer = makeTheNet()\n",
    "    net.to(device)\n",
    "    \n",
    "    trainAcc = []\n",
    "    trainLoss = []\n",
    "    devAcc = []\n",
    "    devLoss = []\n",
    "    \n",
    "    yTrue, yPred = [], []\n",
    "    \n",
    "    for epochi in tqdm(range(epochs)):\n",
    "        batchAcc = []\n",
    "        batchLoss = []\n",
    "        \n",
    "        h = net.init_hidden(batch_size)\n",
    "        \n",
    "        net.train()\n",
    "        \n",
    "        for X, y in train_dataloader:\n",
    "            X, y = X.to(device, dtype=torch.int), y.to(device)\n",
    "            h = tuple([each.data for each in h])\n",
    "            yHat, h = net(X, h)\n",
    "            yHat = yHat.squeeze()\n",
    "            loss = lossfun(yHat, y)\n",
    "            \n",
    "            batchAcc.append(100*torch.mean(((yHat.cpu() > .0) == y.cpu()).float()))\n",
    "            batchLoss.append(loss.item())\n",
    "            \n",
    "            optimizer.zero_grad()\n",
    "            loss.backward()\n",
    "            \n",
    "            nn.utils.clip_grad_norm_(net.parameters(), clip)\n",
    "            optimizer.step()\n",
    "        \n",
    "        trainAcc.append(np.mean(batchAcc))\n",
    "        trainLoss.append(np.mean(batchLoss))\n",
    "        \n",
    "        net.eval()\n",
    "        \n",
    "        with torch.no_grad():\n",
    "            \n",
    "            h = net.init_hidden(batch_size)\n",
    "        \n",
    "            batchAcc = []\n",
    "            batchLoss = []\n",
    "\n",
    "            for X, y in dev_dataloader:\n",
    "                X, y = X.to(device, dtype=torch.int), y.to(device)\n",
    "                h = tuple([each.data for each in h])\n",
    "                yHat, h = net(X, h)\n",
    "                yHat = yHat.squeeze()\n",
    "                loss = lossfun(yHat, y)\n",
    "                \n",
    "                yPred.extend(yHat.cpu() > .0)\n",
    "                yTrue.extend(y.cpu())\n",
    "\n",
    "                batchAcc.append(100*torch.mean(((yHat.cpu() > .0) == y.cpu()).float()))\n",
    "                batchLoss.append(loss.item())\n",
    "\n",
    "            devAcc.append(np.mean(batchAcc))\n",
    "            devLoss.append(np.mean(batchLoss))\n",
    "        \n",
    "    return trainAcc, devAcc, trainLoss, devLoss, net, yTrue, yPred"
   ]
  },
  {
   "cell_type": "code",
   "execution_count": 34,
   "id": "dbddd8f4",
   "metadata": {},
   "outputs": [
    {
     "name": "stderr",
     "output_type": "stream",
     "text": [
      "  0%|          | 0/100 [00:00<?, ?it/s]"
     ]
    },
    {
     "name": "stderr",
     "output_type": "stream",
     "text": [
      "100%|██████████| 100/100 [15:25<00:00,  9.25s/it]\n"
     ]
    }
   ],
   "source": [
    "trainAcc, devAcc, trainLoss, devLoss, net, yTrue, yPred = trainTheNet()"
   ]
  },
  {
   "cell_type": "code",
   "execution_count": 39,
   "id": "c4f37645",
   "metadata": {},
   "outputs": [],
   "source": [
    "import matplotlib.pyplot as plt\n",
    "from matplotlib.colors import LinearSegmentedColormap"
   ]
  },
  {
   "cell_type": "code",
   "execution_count": 40,
   "id": "37f33251",
   "metadata": {},
   "outputs": [
    {
     "data": {
      "image/png": "[encoded data removed]",
      "text/plain": [
       "<Figure size 1800x800 with 2 Axes>"
      ]
     },
     "metadata": {},
     "output_type": "display_data"
    }
   ],
   "source": [
    "fig, ax = plt.subplots(1, 2, figsize = (18, 8))\n",
    "\n",
    "ax[0].plot(trainAcc, 'o-', label = 'Train')\n",
    "ax[0].plot(devAcc, 'o-', label = 'Dev')\n",
    "ax[0].set_title(f'Final Dev Accuracy = {devAcc[-1]:.2f}%')\n",
    "ax[0].set_xlabel('Epochs')\n",
    "ax[0].set_ylabel('Accuracy')\n",
    "ax[0].legend()\n",
    "\n",
    "ax[1].plot(trainLoss, 'o-', label = 'Train')\n",
    "ax[1].plot(devLoss, 'o-', label = 'Dev')\n",
    "ax[1].set_title(f'Final Dev Loss = {devLoss[-1]:.2f}')\n",
    "ax[1].set_xlabel('Epochs')\n",
    "ax[1].set_ylabel('Loss')\n",
    "ax[1].legend()\n",
    "\n",
    "plt.show()"
   ]
  },
  {
   "cell_type": "code",
   "execution_count": 41,
   "id": "8197d0b5",
   "metadata": {},
   "outputs": [
    {
     "ename": "NameError",
     "evalue": "name 'confusion_matrix' is not defined",
     "output_type": "error",
     "traceback": [
      "\u001b[1;31m---------------------------------------------------------------------------\u001b[0m",
      "\u001b[1;31mNameError\u001b[0m                                 Traceback (most recent call last)",
      "Cell \u001b[1;32mIn[41], line 1\u001b[0m\n\u001b[1;32m----> 1\u001b[0m cm \u001b[38;5;241m=\u001b[39m \u001b[43mconfusion_matrix\u001b[49m(yTrue, yPred)\n\u001b[0;32m      3\u001b[0m plt\u001b[38;5;241m.\u001b[39mfigure(figsize\u001b[38;5;241m=\u001b[39m(\u001b[38;5;241m8\u001b[39m, \u001b[38;5;241m6\u001b[39m))\n\u001b[0;32m      4\u001b[0m sns\u001b[38;5;241m.\u001b[39mheatmap(cm, annot\u001b[38;5;241m=\u001b[39m\u001b[38;5;28;01mTrue\u001b[39;00m, cmap\u001b[38;5;241m=\u001b[39mcmap, fmt\u001b[38;5;241m=\u001b[39m\u001b[38;5;124m'\u001b[39m\u001b[38;5;124mg\u001b[39m\u001b[38;5;124m'\u001b[39m)\n",
      "\u001b[1;31mNameError\u001b[0m: name 'confusion_matrix' is not defined"
     ]
    }
   ],
   "source": [
    "cm = confusion_matrix(yTrue, yPred)\n",
    "\n",
    "plt.figure(figsize=(8, 6))\n",
    "sns.heatmap(cm, annot=True, cmap=cmap, fmt='g')\n",
    "plt.xlabel('Predicted')\n",
    "plt.ylabel('Actual')\n",
    "plt.title('Confusion Matrix')\n",
    "plt.show()"
   ]
  },
  {
   "cell_type": "code",
   "execution_count": null,
   "id": "ffce9a1f",
   "metadata": {},
   "outputs": [],
   "source": []
  },
  {
   "cell_type": "code",
   "execution_count": null,
   "id": "d9fdd03c",
   "metadata": {},
   "outputs": [],
   "source": []
  },
  {
   "cell_type": "code",
   "execution_count": null,
   "id": "3606fb7b",
   "metadata": {},
   "outputs": [],
   "source": []
  },
  {
   "cell_type": "code",
   "execution_count": null,
   "id": "187a05ca",
   "metadata": {},
   "outputs": [],
   "source": []
  },
  {
   "cell_type": "code",
   "execution_count": null,
   "id": "8a53d8c4",
   "metadata": {},
   "outputs": [],
   "source": []
  },
  {
   "cell_type": "code",
   "execution_count": null,
   "id": "b414e056",
   "metadata": {},
   "outputs": [],
   "source": []
  },
  {
   "cell_type": "code",
   "execution_count": null,
   "id": "f9812f96",
   "metadata": {},
   "outputs": [],
   "source": []
  },
  {
   "cell_type": "code",
   "execution_count": null,
   "id": "25d4d38d",
   "metadata": {},
   "outputs": [],
   "source": []
  },
  {
   "cell_type": "code",
   "execution_count": null,
   "id": "28a65fcf",
   "metadata": {},
   "outputs": [],
   "source": []
  },
  {
   "cell_type": "code",
   "execution_count": null,
   "id": "e0c88b61",
   "metadata": {},
   "outputs": [],
   "source": []
  },
  {
   "cell_type": "code",
   "execution_count": null,
   "id": "a79b7971",
   "metadata": {},
   "outputs": [],
   "source": []
  },
  {
   "cell_type": "code",
   "execution_count": null,
   "id": "79f299cd",
   "metadata": {},
   "outputs": [],
   "source": []
  },
  {
   "cell_type": "code",
   "execution_count": null,
   "id": "facadff5",
   "metadata": {},
   "outputs": [],
   "source": []
  },
  {
   "cell_type": "code",
   "execution_count": null,
   "id": "da49203a",
   "metadata": {},
   "outputs": [],
   "source": []
  }
 ],
 "metadata": {
  "kaggle": {
   "accelerator": "gpu",
   "dataSources": [
    {
     "databundleVersionId": 869809,
     "sourceId": 17777,
     "sourceType": "competition"
    }
   ],
   "dockerImageVersionId": 30732,
   "isGpuEnabled": true,
   "isInternetEnabled": true,
   "language": "python",
   "sourceType": "notebook"
  },
  "kernelspec": {
   "display_name": "Python 3",
   "language": "python",
   "name": "python3"
  },
  "language_info": {
   "codemirror_mode": {
    "name": "ipython",
    "version": 3
   },
   "file_extension": ".py",
   "mimetype": "text/x-python",
   "name": "python",
   "nbconvert_exporter": "python",
   "pygments_lexer": "ipython3",
   "version": "3.8.19"
  },
  "papermill": {
   "default_parameters": {},
   "duration": 10.003467,
   "end_time": "2024-06-06T10:34:23.830045",
   "environment_variables": {},
   "exception": null,
   "input_path": "__notebook__.ipynb",
   "output_path": "__notebook__.ipynb",
   "parameters": {},
   "start_time": "2024-06-06T10:34:13.826578",
   "version": "2.5.0"
  }
 },
 "nbformat": 4,
 "nbformat_minor": 5
}
